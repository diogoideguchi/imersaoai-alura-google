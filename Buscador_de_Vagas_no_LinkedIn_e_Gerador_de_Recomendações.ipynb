{
  "nbformat": 4,
  "nbformat_minor": 0,
  "metadata": {
    "colab": {
      "provenance": [],
      "gpuType": "T4",
      "authorship_tag": "ABX9TyMy0CR7Y2/zmuapAWi095+Z",
      "include_colab_link": true
    },
    "kernelspec": {
      "name": "python3",
      "display_name": "Python 3"
    },
    "language_info": {
      "name": "python"
    }
  },
  "cells": [
    {
      "cell_type": "markdown",
      "metadata": {
        "id": "view-in-github",
        "colab_type": "text"
      },
      "source": [
        "<a href=\"https://colab.research.google.com/github/hantonio/imersaoai-alura-google/blob/main/Buscador_de_Vagas_no_LinkedIn_e_Gerador_de_Recomenda%C3%A7%C3%B5es.ipynb\" target=\"_parent\"><img src=\"https://colab.research.google.com/assets/colab-badge.svg\" alt=\"Open In Colab\"/></a>"
      ]
    },
    {
      "cell_type": "markdown",
      "source": [
        "# Buscador de vagas de emprego no LinkedIn e Gerador de Recomendações para Iniciantes"
      ],
      "metadata": {
        "id": "wtE1lbXiuXrK"
      }
    },
    {
      "cell_type": "markdown",
      "source": [
        "O projeto busca fornecer um programa que permita a busca de vagas no LinkedIn através de uma palavra ou termo que descreva o cargo (por exemplo, \"DevOps\") e uma localização (por exemplo, \"Brazil\").\n",
        "\n",
        "A partir dessas entradas o programa busca por esses termos na API do LinkedIn, fornecendo uma lista de vagas, bem como recomendações de estudo para transição de carreira ou aperfeiçoamento de habilidades, e algumas características da empresa que está contratando. Ao final ele fornece dicas para ir bem na entrevista de emprego."
      ],
      "metadata": {
        "id": "UIJcpApTuluq"
      }
    },
    {
      "cell_type": "markdown",
      "source": [
        "## Instalação de dependências"
      ],
      "metadata": {
        "id": "7tAUbU5wvvqt"
      }
    },
    {
      "cell_type": "code",
      "source": [
        "!pip install -U -q google-generativeai numpy pandas==2.0.3 beautifulsoup4"
      ],
      "metadata": {
        "id": "sXl8vupxvs9x"
      },
      "execution_count": 16,
      "outputs": []
    },
    {
      "cell_type": "markdown",
      "source": [
        "## Importação de dependências"
      ],
      "metadata": {
        "id": "-0oirCO7wgRx"
      }
    },
    {
      "cell_type": "code",
      "source": [
        "import requests\n",
        "from bs4 import BeautifulSoup\n",
        "import numpy as np\n",
        "import pandas as pd\n",
        "import google.generativeai as genai\n",
        "from timeit import default_timer as timer\n",
        "from google.colab import userdata"
      ],
      "metadata": {
        "id": "o8ORm0WowerM"
      },
      "execution_count": 17,
      "outputs": []
    },
    {
      "cell_type": "markdown",
      "source": [
        "## Definição de variáveis"
      ],
      "metadata": {
        "id": "dRjdLJ52wW29"
      }
    },
    {
      "cell_type": "code",
      "source": [
        "GOOGLE_API_KEY=userdata.get('GOOGLE_API_KEY')\n",
        "genai.configure(api_key=GOOGLE_API_KEY)\n",
        "job_entries_list = []\n",
        "\n",
        "keyword=\"DevOps\"\n",
        "location=\"Brazil\"\n",
        "\n",
        "url = f'https://www.linkedin.com/jobs/search?keywords={keyword}&location={location}&pageNum=0'\n",
        "model = \"models/text-embedding-004\"\n",
        "generation_config = {\n",
        "  \"temperature\": 0,\n",
        "  \"candidate_count\": 1\n",
        "}\n",
        "\n",
        "model_2 = genai.GenerativeModel(\"gemini-1.0-pro\",\n",
        "                               generation_config=generation_config)"
      ],
      "metadata": {
        "id": "ccVrlWofwcFQ"
      },
      "execution_count": 18,
      "outputs": []
    },
    {
      "cell_type": "markdown",
      "source": [
        "## Preparar dataframe com vagas coletadas do LinkedIn"
      ],
      "metadata": {
        "id": "CAb2QsUwxXgH"
      }
    },
    {
      "cell_type": "code",
      "source": [
        "response = requests.get(url)\n",
        "if response.status_code == 200:\n",
        "   soup = BeautifulSoup(response.text, 'html.parser')\n",
        "   job_listings = soup.find_all('div', {'class':'job-search-card'})\n",
        "   for job in job_listings:\n",
        "        title = job.find('h3', {'class': 'base-search-card__title'}).text.strip()\n",
        "        company = job.find('a', {'class': 'hidden-nested-link'}).text.strip()\n",
        "        location = job.find('span', {'class': 'job-search-card__location'}).text.strip()\n",
        "        anchor_tag = job.find('a', class_='base-card__full-link')\n",
        "        href_link = anchor_tag['href']\n",
        "        details = \"\"\n",
        "        response_details = requests.get(href_link)\n",
        "        if response_details.status_code == 200:\n",
        "            soup2 = BeautifulSoup(response_details.text, 'html.parser')\n",
        "            job_posting = soup2.find('div', {'class': 'show-more-less-html__markup show-more-less-html__markup--clamp-after-5 relative overflow-hidden'}).text.strip()\n",
        "        job_entry = { \"title\" : title, \"company\": company, \"location\": location, \"link\": href_link, \"description\": job_posting}\n",
        "        job_entries_list.append(job_entry)\n",
        "else:\n",
        "   print(\"Failed to fetch job listings.\")\n",
        "\n",
        "df = pd.DataFrame(job_entries_list)\n",
        "df.columns = [\"title\", \"company\", \"location\", \"link\", \"description\"]\n",
        "df = df.head(5) #limitando para 5 entradas por limitação de timeout do Google Colab"
      ],
      "metadata": {
        "id": "hA03ojBxxcvg"
      },
      "execution_count": 19,
      "outputs": []
    },
    {
      "cell_type": "markdown",
      "source": [
        "## Definição de funções para embedding e sumarização"
      ],
      "metadata": {
        "id": "_0H39wM4xm1p"
      }
    },
    {
      "cell_type": "code",
      "source": [
        "def embed_fn(title, description):\n",
        "   return genai.embed_content(model=model, content=description, title=title, task_type=\"RETRIEVAL_DOCUMENT\")[\"embedding\"]\n",
        "\n",
        "def job_summarizer(description):\n",
        "    prompt = f\"Resuma o texto de descrição fornecido neste trecho focando especificamente na vaga de emprego, no nome ou título da vaga oferecida e nos requisitos profissionais: {description}\"\n",
        "    response = model_2.generate_content(prompt)\n",
        "    return response.text\n",
        "\n",
        "def company_summarizer(description):\n",
        "    prompt = f\"Resuma o texto de descrição fornecido neste trecho focando especificamente na empresa que oferece a vaga de emprego e no nome ou título da vaga oferecida: {description}\"\n",
        "    response = model_2.generate_content(prompt)\n",
        "    return response.text"
      ],
      "metadata": {
        "id": "cN8BOrq5xqtJ"
      },
      "execution_count": 20,
      "outputs": []
    },
    {
      "cell_type": "markdown",
      "source": [
        "## Sumarização e embedding das descrições de vagas e companhias"
      ],
      "metadata": {
        "id": "OuaTzc8jxyEL"
      }
    },
    {
      "cell_type": "code",
      "source": [
        "# Gerar coluna de sumarização de descrição da vaga\n",
        "start = timer()\n",
        "df[\"shortdescription\"] = df.apply(lambda row: job_summarizer(row[\"description\"]), axis=1)\n",
        "end = timer()\n",
        "print(end - start)"
      ],
      "metadata": {
        "colab": {
          "base_uri": "https://localhost:8080/",
          "height": 35
        },
        "id": "PtZKWB4jx3nn",
        "outputId": "d70b6dd8-99a4-4959-c143-f016819d37e0"
      },
      "execution_count": 21,
      "outputs": [
        {
          "output_type": "stream",
          "name": "stdout",
          "text": [
            "18.85165299800002\n"
          ]
        }
      ]
    },
    {
      "cell_type": "code",
      "source": [
        "# Gerar coluna de sumarização de descrição da empresa\n",
        "start = timer()\n",
        "df[\"companydescription\"] = df.apply(lambda row: company_summarizer(row[\"description\"]), axis=1)\n",
        "end = timer()\n",
        "print(end - start)"
      ],
      "metadata": {
        "colab": {
          "base_uri": "https://localhost:8080/",
          "height": 35
        },
        "id": "Ij5Zk07V0Vk3",
        "outputId": "b0625f8f-5f14-4e05-92a4-2e44d737fa30"
      },
      "execution_count": 22,
      "outputs": [
        {
          "output_type": "stream",
          "name": "stdout",
          "text": [
            "11.112911124999982\n"
          ]
        }
      ]
    },
    {
      "cell_type": "code",
      "source": [
        "# Geração de embeddings para vagas\n",
        "start = timer()\n",
        "df[\"embeddings\"] = df.apply(lambda row: embed_fn(row[\"title\"], row[\"shortdescription\"]), axis=1)\n",
        "end = timer()\n",
        "print(end - start)"
      ],
      "metadata": {
        "colab": {
          "base_uri": "https://localhost:8080/",
          "height": 35
        },
        "id": "U0J5wZlF0WRE",
        "outputId": "5f4515ba-2da0-43ed-c01a-2b170a989569"
      },
      "execution_count": 23,
      "outputs": [
        {
          "output_type": "stream",
          "name": "stdout",
          "text": [
            "5.0851910800000155\n"
          ]
        }
      ]
    },
    {
      "cell_type": "code",
      "source": [
        "# Geração de embeddings para empresas\n",
        "start = timer()\n",
        "df[\"embeddings_c\"] = df.apply(lambda row: embed_fn(row[\"title\"], row[\"companydescription\"]), axis=1)\n",
        "end = timer()\n",
        "print(end - start)"
      ],
      "metadata": {
        "colab": {
          "base_uri": "https://localhost:8080/",
          "height": 35
        },
        "id": "A6WdfMCK0WUn",
        "outputId": "cf85cf36-fda8-4e81-c7a2-165d86517edc"
      },
      "execution_count": 24,
      "outputs": [
        {
          "output_type": "stream",
          "name": "stdout",
          "text": [
            "4.9224091680000015\n"
          ]
        }
      ]
    },
    {
      "cell_type": "markdown",
      "source": [
        "## Definição de funções de geração de prompt e consulta"
      ],
      "metadata": {
        "id": "l_b74TwnyAhb"
      }
    },
    {
      "cell_type": "code",
      "source": [
        "def gerar_e_buscar_consulta(consulta, base, model):\n",
        "  embedding_da_consulta = genai.embed_content(model=model,\n",
        "                                 content=consulta,\n",
        "                                 task_type=\"RETRIEVAL_QUERY\")[\"embedding\"]\n",
        "\n",
        "  produtos_escalares = np.dot(np.stack(df[\"embeddings\"]), embedding_da_consulta)\n",
        "\n",
        "  indice = np.argmax(produtos_escalares)\n",
        "  return df.iloc[indice][\"shortdescription\"]\n",
        "\n",
        "def gerar_e_buscar_consulta2(consulta, base, model):\n",
        "  embedding_da_consulta = genai.embed_content(model=model,\n",
        "                                 content=consulta,\n",
        "                                 task_type=\"RETRIEVAL_QUERY\")[\"embedding\"]\n",
        "\n",
        "  produtos_escalares = np.dot(np.stack(df[\"embeddings_c\"]), embedding_da_consulta)\n",
        "\n",
        "  indice = np.argmax(produtos_escalares)\n",
        "  return df.iloc[indice][\"companydescription\"]"
      ],
      "metadata": {
        "id": "jXqd7E1yyFIk"
      },
      "execution_count": 25,
      "outputs": []
    },
    {
      "cell_type": "markdown",
      "source": [
        "## Vagas encontradas"
      ],
      "metadata": {
        "id": "L_FKaOUD6UCM"
      }
    },
    {
      "cell_type": "code",
      "source": [
        "print(df[['title','companydescription','shortdescription']])"
      ],
      "metadata": {
        "colab": {
          "base_uri": "https://localhost:8080/"
        },
        "id": "rZxCgi4M6WRk",
        "outputId": "ee87ee3e-2772-4574-9d4f-ea452ddbda84"
      },
      "execution_count": 26,
      "outputs": [
        {
          "output_type": "stream",
          "name": "stdout",
          "text": [
            "                              title  \\\n",
            "0        Analista de Sistemas Pleno   \n",
            "1  [RPE] Analista CloudOps - Júnior   \n",
            "2               Analista DevOps Jr.   \n",
            "3         PL Desenvolvimento Python   \n",
            "4                 Estágio em DevOps   \n",
            "\n",
            "                                  companydescription  \\\n",
            "0      **Empresa:** Alelo\\n\\n**Vaga:** Líder Técnico   \n",
            "1  **Empresa:** RPE - Retail Payment Ecosystem\\n\\...   \n",
            "2  **Empresa:** UOL EdTech\\n\\n**Vaga:** DevOps En...   \n",
            "3  **Empresa:** ília\\n\\n**Vaga:** Desenvolvedor P...   \n",
            "4  **Empresa:** dti digital\\n\\n**Vaga:** Estagiár...   \n",
            "\n",
            "                                    shortdescription  \n",
            "0  **Vaga de Emprego:** Líder Técnico\\n\\n**Requis...  \n",
            "1  **Vaga de Emprego:** Analista de TechOps\\n\\n**...  \n",
            "2  **Vaga de Emprego:** Engenheiro de DevOps\\n\\n*...  \n",
            "3  **Vaga de Emprego:** Desenvolvedor PYTHON\\n\\n*...  \n",
            "4  **Vaga de Emprego:** Estagiário DevOps\\n\\n**Re...  \n"
          ]
        }
      ]
    },
    {
      "cell_type": "markdown",
      "source": [
        "## Consultas a base de vagas"
      ],
      "metadata": {
        "id": "tomaihpwyK-j"
      }
    },
    {
      "cell_type": "markdown",
      "source": [
        "### Quais são as habilidades mais requisitadas de um profissional de acordo com a vaga no LinkedIn?\""
      ],
      "metadata": {
        "id": "UqYQKkyB349z"
      }
    },
    {
      "cell_type": "code",
      "source": [
        "consulta = \"Quais são as habilidades requisitadas para um Estagiário?\"\n",
        "trecho = gerar_e_buscar_consulta(consulta, df, model)\n",
        "print(f\"Resultado de busca: {trecho}\")"
      ],
      "metadata": {
        "colab": {
          "base_uri": "https://localhost:8080/",
          "height": 321
        },
        "id": "vWR2yeyEyOcd",
        "outputId": "de746c73-87b2-4334-9e0c-b4d7d478c0a6"
      },
      "execution_count": 30,
      "outputs": [
        {
          "output_type": "stream",
          "name": "stdout",
          "text": [
            "Resultado de busca: **Vaga de Emprego:** Estagiário DevOps\n",
            "\n",
            "**Requisitos Profissionais:**\n",
            "\n",
            "**Requisitos Básicos:**\n",
            "\n",
            "* Inclinação ou interesse em DevOps\n",
            "* Inglês avançado\n",
            "* Matrícula em curso superior, técnico ou ensino médio\n",
            "* Curso em Engenharia de Controle e Automação, Engenharia de Sistemas, Engenharia Elétrica, Ciência da Computação, Engenharia da Computação ou Sistemas de Informação\n",
            "\n",
            "**Requisitos Desejáveis:**\n",
            "\n",
            "* Conhecimento em C#, .NET\n",
            "* Conhecimento em desenvolvimento Java/Angular\n",
            "* Conhecimento em desenvolvimento Front End (HTML, JS, CSS)\n",
            "* Conhecimento em desenvolvimento mobile para iOS e Android\n"
          ]
        }
      ]
    },
    {
      "cell_type": "markdown",
      "source": [
        "### Sugira um plano de estudo para um iniciante que está migrando de carreira"
      ],
      "metadata": {
        "id": "pfE-RzzS4BD7"
      }
    },
    {
      "cell_type": "code",
      "source": [
        "prompt = f\"Baseado nesse {trecho}, gere um plano de estudos para alguém que está migrando de carreira.\"\n",
        "response = model_2.generate_content(prompt)\n",
        "print(response.text)"
      ],
      "metadata": {
        "colab": {
          "base_uri": "https://localhost:8080/",
          "height": 1000
        },
        "id": "uDNo6LqoyQiP",
        "outputId": "420898bf-fbaa-474d-f97a-1908a80d3134"
      },
      "execution_count": 31,
      "outputs": [
        {
          "output_type": "stream",
          "name": "stdout",
          "text": [
            "**Plano de Estudos para Migração de Carreira para Estagiário DevOps**\n",
            "\n",
            "**Objetivo:** Adquirir os conhecimentos e habilidades essenciais para se qualificar para uma vaga de Estagiário DevOps.\n",
            "\n",
            "**Duração:** 6-12 meses\n",
            "\n",
            "**Requisitos Prévios:**\n",
            "\n",
            "* Inclinação ou interesse em DevOps\n",
            "* Inglês avançado\n",
            "* Matrícula em curso superior, técnico ou ensino médio\n",
            "\n",
            "**Módulos do Curso:**\n",
            "\n",
            "**Módulo 1: Fundamentos de DevOps**\n",
            "\n",
            "* Conceitos e princípios de DevOps\n",
            "* Metodologias ágeis (Scrum, Kanban)\n",
            "* Ferramentas de automação (Jenkins, Ansible)\n",
            "* Gerenciamento de configuração (Puppet, Chef)\n",
            "\n",
            "**Módulo 2: Desenvolvimento de Software**\n",
            "\n",
            "* Linguagens de programação (C#, Java)\n",
            "* Desenvolvimento Front End (HTML, JS, CSS)\n",
            "* Desenvolvimento mobile (iOS, Android)\n",
            "\n",
            "**Módulo 3: Infraestrutura de TI**\n",
            "\n",
            "* Sistemas operacionais (Linux, Windows)\n",
            "* Virtualização (VMware, Docker)\n",
            "* Redes e segurança\n",
            "* Armazenamento e backup\n",
            "\n",
            "**Módulo 4: Ferramentas e Tecnologias DevOps**\n",
            "\n",
            "* Git e controle de versão\n",
            "* Integração contínua (CI) e entrega contínua (CD)\n",
            "* Monitoramento e registro\n",
            "* Automação de testes\n",
            "\n",
            "**Módulo 5: Práticas de DevOps**\n",
            "\n",
            "* Colaboração e comunicação\n",
            "* Gerenciamento de incidentes\n",
            "* Melhoria contínua\n",
            "\n",
            "**Avaliação:**\n",
            "\n",
            "* Projetos práticos\n",
            "* Testes e questionários\n",
            "* Avaliação de desempenho\n",
            "\n",
            "**Recursos de Aprendizagem:**\n",
            "\n",
            "* Cursos online (Udemy, Coursera)\n",
            "* Tutoriais e documentação\n",
            "* Comunidades online (Stack Overflow, Reddit)\n",
            "* Projetos pessoais e contribuições de código aberto\n",
            "\n",
            "**Cronograma:**\n",
            "\n",
            "* Dedique 10-15 horas por semana ao estudo\n",
            "* Conclua o Módulo 1 em 2 meses\n",
            "* Conclua os Módulos 2-4 em 4 meses\n",
            "* Dedique os últimos 2 meses para projetos práticos e avaliação\n",
            "\n",
            "**Observações:**\n",
            "\n",
            "* O cronograma pode variar dependendo do nível de conhecimento prévio e disponibilidade.\n",
            "* É recomendável participar de grupos de estudo ou encontrar um mentor para suporte e orientação.\n",
            "* Mantenha-se atualizado com as tendências e tecnologias emergentes em DevOps.\n"
          ]
        }
      ]
    },
    {
      "cell_type": "code",
      "source": [
        "consulta2 = \"Qual é a empresa que está oferecendo a vaga de Estagiario?\"\n",
        "trecho2 = gerar_e_buscar_consulta2(consulta2, df, model)\n",
        "print(f\"Resultado de busca: {trecho2}\")"
      ],
      "metadata": {
        "colab": {
          "base_uri": "https://localhost:8080/",
          "height": 71
        },
        "id": "gWA-uqlY_nb1",
        "outputId": "359e6a97-2454-40f7-f7a1-18aeb3423a6f"
      },
      "execution_count": 34,
      "outputs": [
        {
          "output_type": "stream",
          "name": "stdout",
          "text": [
            "Resultado de busca: **Empresa:** dti digital\n",
            "\n",
            "**Vaga:** Estagiário DevOps\n"
          ]
        }
      ]
    },
    {
      "cell_type": "markdown",
      "source": [
        "### Quais vagas são adequadas para um iniciante?"
      ],
      "metadata": {
        "id": "9rI6saS_4cpM"
      }
    },
    {
      "cell_type": "code",
      "source": [
        "prompt2 = f\"Conte um pouco sobre a empresa que está oferecendo a vaga: {trecho2}\"\n",
        "response2 = model_2.generate_content(prompt2)\n",
        "print(response2.text)"
      ],
      "metadata": {
        "colab": {
          "base_uri": "https://localhost:8080/",
          "height": 376
        },
        "id": "hTxTbmS1yQwq",
        "outputId": "a5e1c246-e8b3-41b8-fa2b-845c08b1f75c"
      },
      "execution_count": 35,
      "outputs": [
        {
          "output_type": "stream",
          "name": "stdout",
          "text": [
            "**Sobre a dti digital**\n",
            "\n",
            "A dti digital é uma empresa brasileira de tecnologia da informação (TI) fundada em 2002. Com sede em São Paulo, a empresa oferece uma ampla gama de serviços de TI, incluindo:\n",
            "\n",
            "* Desenvolvimento e manutenção de software\n",
            "* Infraestrutura de TI\n",
            "* Segurança cibernética\n",
            "* Consultoria de TI\n",
            "* Treinamento e certificação\n",
            "\n",
            "A dti digital tem uma forte presença no mercado financeiro, atendendo a grandes bancos e instituições financeiras. A empresa também atua em outros setores, como varejo, saúde e educação.\n",
            "\n",
            "A dti digital é reconhecida por sua inovação e excelência em TI. A empresa recebeu vários prêmios e certificações, incluindo:\n",
            "\n",
            "* Great Place to Work\n",
            "* ISO 9001:2015\n",
            "* CMMI Nível 3\n",
            "\n",
            "A dti digital está comprometida em fornecer soluções de TI de alta qualidade que atendam às necessidades específicas de seus clientes. A empresa investe fortemente em pesquisa e desenvolvimento para se manter na vanguarda das tendências tecnológicas.\n"
          ]
        }
      ]
    },
    {
      "cell_type": "markdown",
      "source": [
        "### Recomendações para entrevista de emprego"
      ],
      "metadata": {
        "id": "Xfaik5ZHAAGi"
      }
    },
    {
      "cell_type": "code",
      "source": [
        "prompt3 = f\"Dado os trechos a seguir que descrevem a vaga e a empresa, sugira dicas para ir bem em uma entrevista de emprego: {trecho} e {trecho2}\"\n",
        "response3 = model_2.generate_content(prompt3)\n",
        "print(response3.text)"
      ],
      "metadata": {
        "colab": {
          "base_uri": "https://localhost:8080/",
          "height": 571
        },
        "id": "aUoKxjZJADHc",
        "outputId": "6cf230d0-363e-4dbb-b212-fc3a25111673"
      },
      "execution_count": 37,
      "outputs": [
        {
          "output_type": "stream",
          "name": "stdout",
          "text": [
            "**Dicas para Ir Bem em uma Entrevista de Emprego para Estagiário DevOps**\n",
            "\n",
            "**Antes da Entrevista:**\n",
            "\n",
            "* **Pesquise a empresa:** Conheça a dti digital, sua cultura e seus valores.\n",
            "* **Revise os requisitos da vaga:** Certifique-se de entender os requisitos básicos e desejáveis.\n",
            "* **Prepare exemplos:** Pense em exemplos específicos de projetos ou experiências que demonstrem suas habilidades em DevOps.\n",
            "* **Pratique suas respostas:** Ensaie suas respostas para perguntas comuns de entrevista, como \"Conte-me sobre você\" e \"Por que você está interessado nesta vaga?\".\n",
            "\n",
            "**Durante a Entrevista:**\n",
            "\n",
            "* **Seja profissional:** Vista-se adequadamente e chegue na hora.\n",
            "* **Demonstre entusiasmo:** Mostre que você está genuinamente interessado na vaga e na empresa.\n",
            "* **Destaque suas habilidades:** Enfatize suas habilidades em DevOps, mesmo que sejam limitadas.\n",
            "* **Faça perguntas:** Faça perguntas perspicazes sobre a vaga, a equipe e a cultura da empresa.\n",
            "* **Seja curioso:** Pergunte sobre as ferramentas e tecnologias usadas pela equipe de DevOps.\n",
            "* **Mostre sua paixão:** Expresse seu interesse em aprender e crescer no campo de DevOps.\n",
            "\n",
            "**Após a Entrevista:**\n",
            "\n",
            "* **Agradeça:** Envie um e-mail de agradecimento ao entrevistador.\n",
            "* **Acompanhe:** Se você não receber notícias dentro de uma semana, entre em contato para acompanhar.\n",
            "* **Reflita:** Avalie seu desempenho na entrevista e identifique áreas para melhoria.\n",
            "\n",
            "**Dicas Adicionais:**\n",
            "\n",
            "* **Destaque sua inclinação para DevOps:** Explique como seu interesse em automação, integração contínua e entrega contínua o levou a buscar uma carreira em DevOps.\n",
            "* **Enfatize sua capacidade de aprendizado:** Demonstre sua vontade de aprender novas tecnologias e ferramentas.\n",
            "* **Mostre sua paixão por tecnologia:** Compartilhe exemplos de projetos pessoais ou hobbies que demonstrem seu interesse em desenvolvimento de software e infraestrutura.\n",
            "* **Seja um bom ouvinte:** Preste atenção às perguntas do entrevistador e responda de forma clara e concisa.\n",
            "* **Seja você mesmo:** Seja autêntico e mostre sua personalidade.\n"
          ]
        }
      ]
    }
  ]
}